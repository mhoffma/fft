{
 "cells": [
  {
   "cell_type": "code",
   "execution_count": 17,
   "id": "a66c6240-8a25-4c15-9e60-2c726ab7cd9a",
   "metadata": {},
   "outputs": [],
   "source": [
    ":dep plotters = { version = \"^0.3.0\", default_features = false, features = [\"evcxr\", \"all_series\", \"all_elements\"] }\n",
    ":dep num\n",
    ":dep ndarray\n",
    ":dep rand\n",
    ":dep rayon"
   ]
  },
  {
   "cell_type": "code",
   "execution_count": 18,
   "id": "39928667-2e88-4695-9598-50a626683126",
   "metadata": {},
   "outputs": [],
   "source": [
    "use num::Complex;\n",
    "use std::f64::consts::PI;\n",
    "use ndarray::{Array,Array1,s,azip,Axis};\n",
    "use plotters::prelude::*;\n",
    "use rayon::prelude::*;\n",
    "use rand::Rng;"
   ]
  },
  {
   "cell_type": "code",
   "execution_count": 8,
   "id": "80ce16a7-fe8e-4d11-b6e1-facc02310b25",
   "metadata": {},
   "outputs": [],
   "source": [
    "fn logb(n : usize) -> usize { (n as f32).log(2.0).ceil() as usize }\n",
    "fn brevidx(i : usize, n : usize) -> usize { if n>0 {i.reverse_bits() >> (64 - n)} else {0} }\n",
    "fn brevidxs(n : usize) -> Vec<usize> {(0..n).map(|x| brevidx(x,logb(n))).collect::<Vec<_>>()}\n",
    "fn brev<T: Clone>(a : &[T]) -> Vec<T> { \n",
    "   brevidxs(a.len()).iter().map(|i| a[*i].clone()).collect()\n",
    "}"
   ]
  },
  {
   "cell_type": "code",
   "execution_count": 19,
   "id": "ca345303-50c1-4ba7-b483-c3591961e1c3",
   "metadata": {},
   "outputs": [],
   "source": [
    "fn fft(y : &Array1<Complex<f64>>) -> Array1<Complex<f64>> {\n",
    "    let mut x = y.clone();\n",
    "    let n = x.len();\n",
    "    let nstages = logb(n);\n",
    "    for m in 0..nstages {\n",
    "        let w = Array::from_iter((0..n / 2).map(|k| { \n",
    "                Complex::new(\n",
    "                   0.0,\n",
    "                   -2.0 * PI * (brevidx(k, m) as f64) / (2.0f64.powi(m as i32 + 1))\n",
    "                )\n",
    "            })) .mapv(|x| x.exp());\n",
    "\n",
    "        let e=&x.clone().slice_move(s![..(n/2)]);\n",
    "        let o=&(x.clone().slice_move(s![(n/2)..])*w);\n",
    "        x.slice_mut(s![0..;2]).assign(&(e+o));\n",
    "        x.slice_mut(s![1..;2]).assign(&(e-o));\n",
    "    }\n",
    "\n",
    "    x.select(Axis(0),&brevidxs(n))\n",
    "}"
   ]
  },
  {
   "cell_type": "code",
   "execution_count": null,
   "id": "6b156766-b49e-4e0f-807e-dfec57cf4eb6",
   "metadata": {
    "tags": []
   },
   "outputs": [],
   "source": [
    "let mut a = Array::from_iter((0..(1<<18)).map(|x| Complex::new(0.0,0.0)));\n",
    "a[1].re=1.0;\n",
    "a[4].im=0.25;\n",
    "let o = fft(&a);\n",
    "let max = o.fold(0.0,|x,y| y.im.max(x)).max(o.fold(0.0,|x,y| y.re.max(x))) ;\n",
    "let min = o.fold(0.0,|x,y| y.im.min(x)).min(o.fold(0.0,|x,y| y.re.min(x))) ;\n",
    "let n=o.len();\n",
    "\n",
    "\n",
    "let figure = evcxr_figure((640, 480), |root| {\n",
    "    root.fill(&WHITE)?;\n",
    "    let mut chart = ChartBuilder::on(&root)\n",
    "        .caption(format!(\"FFT output {}\",n), (\"Arial\", 50).into_font())\n",
    "        .margin(5)\n",
    "        .x_label_area_size(30)\n",
    "        .y_label_area_size(30)\n",
    "        .build_cartesian_2d(0.0..(2.0*PI), min..max)?;\n",
    "\n",
    "    chart.configure_mesh().draw()?;\n",
    "\n",
    "    chart.draw_series(LineSeries::new(\n",
    "        (0..n).map(|x| ((x as f64)*2.0*PI/(n as f64),o[x].re)),\n",
    "        &RED,\n",
    "    )).unwrap()\n",
    "        .label(\"y = o.im\")\n",
    "        .legend(|(x,y)| PathElement::new(vec![(x,y), (x + 20,y)], &RED));\n",
    "    chart.draw_series(LineSeries::new(\n",
    "        (0..n).map(|x| ((x as f64) *2.0*PI/(n as f64),o[x].im)),\n",
    "        &BLUE,\n",
    "    )).unwrap()\n",
    "        .label(\"y = o.re\")\n",
    "        .legend(|(x,y)| PathElement::new(vec![(x,y), (x + 20,y)], &RED));\n",
    "\n",
    "    chart.configure_series_labels()\n",
    "        .background_style(&WHITE.mix(0.8))\n",
    "        .border_style(&BLACK)\n",
    "        .draw()?;\n",
    "    Ok(())\n",
    "});\n",
    "figure\n"
   ]
  },
  {
   "cell_type": "code",
   "execution_count": null,
   "id": "a3a26b77-8bbb-4113-8361-4bcb3865d552",
   "metadata": {},
   "outputs": [],
   "source": []
  }
 ],
 "metadata": {
  "kernelspec": {
   "display_name": "Rust",
   "language": "rust",
   "name": "rust"
  },
  "language_info": {
   "codemirror_mode": "rust",
   "file_extension": ".rs",
   "mimetype": "text/rust",
   "name": "Rust",
   "pygment_lexer": "rust",
   "version": ""
  }
 },
 "nbformat": 4,
 "nbformat_minor": 5
}
